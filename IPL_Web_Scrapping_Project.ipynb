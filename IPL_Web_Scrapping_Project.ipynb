{
 "cells": [
  {
   "cell_type": "code",
   "execution_count": 15,
   "id": "9e8a399e-b391-4493-9857-e0b333139b6d",
   "metadata": {},
   "outputs": [
    {
     "name": "stdout",
     "output_type": "stream",
     "text": [
      "  SR. NO.                         TEAM FUNDS REMAINING OVERSEAS PLAYERS   \\\n",
      "0       1          Chennai Super Kings    ₹2,95,00,000                 8   \n",
      "1       2               Delhi Capitals      ₹10,00,000                 7   \n",
      "2       3               Gujarat Titans      ₹15,00,000                 8   \n",
      "3       4        Kolkata Knight Riders      ₹45,00,000                 8   \n",
      "4       5         Lucknow Super Giants              ₹0                 7   \n",
      "5       6               Mumbai Indians      ₹10,00,000                 8   \n",
      "6       7                 Punjab Kings    ₹3,45,00,000                 7   \n",
      "7       8             Rajasthan Royals      ₹95,00,000                 8   \n",
      "8       9  Royal Challengers Bangalore    ₹1,55,00,000                 8   \n",
      "9      10          Sunrisers Hyderabad      ₹10,00,000                 8   \n",
      "\n",
      "  TOTAL PLAYERS  \n",
      "0            25  \n",
      "1            24  \n",
      "2            23  \n",
      "3            25  \n",
      "4            21  \n",
      "5            25  \n",
      "6            25  \n",
      "7            24  \n",
      "8            22  \n",
      "9            23  \n"
     ]
    }
   ],
   "source": [
    "import requests\n",
    "from bs4 import BeautifulSoup\n",
    "import pandas as pd\n",
    "url =\"https://www.iplt20.com/auction/2022\"\n",
    "r=requests.get(url)\n",
    "soup = BeautifulSoup(r.text,\"lxml\")\n",
    "table= soup.find(\"table\",class_=\"ih-td-tab auction-tbl\")\n",
    "title=table.find_all(\"th\")\n",
    "header=[]\n",
    "for i in title:\n",
    "    name=i.text\n",
    "    header.append(name)\n",
    "df=pd.DataFrame(columns=header)\n",
    "rows = table.find_all(\"tr\")\n",
    "for i in rows [1:]:\n",
    "    data=i.find_all(\"td\")\n",
    "    row=[tr.text.strip() for tr in data]\n",
    "    l=len(df)\n",
    "    df.loc[l]=row\n",
    "    #print(row)\n",
    "print(df)\n",
    "df.to_csv(\"IPL 2022 STATS.CSV\")"
   ]
  },
  {
   "cell_type": "code",
   "execution_count": null,
   "id": "34e181cd-9285-41df-b429-d552a0a8a218",
   "metadata": {},
   "outputs": [],
   "source": []
  }
 ],
 "metadata": {
  "kernelspec": {
   "display_name": "Python 3 (ipykernel)",
   "language": "python",
   "name": "python3"
  },
  "language_info": {
   "codemirror_mode": {
    "name": "ipython",
    "version": 3
   },
   "file_extension": ".py",
   "mimetype": "text/x-python",
   "name": "python",
   "nbconvert_exporter": "python",
   "pygments_lexer": "ipython3",
   "version": "3.13.0"
  }
 },
 "nbformat": 4,
 "nbformat_minor": 5
}
